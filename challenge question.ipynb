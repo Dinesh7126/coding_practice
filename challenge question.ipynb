{
 "cells": [
  {
   "cell_type": "code",
   "execution_count": 1,
   "id": "a1db0399",
   "metadata": {},
   "outputs": [
    {
     "name": "stdout",
     "output_type": "stream",
     "text": [
      "Yes, this power bank is for you!\n"
     ]
    }
   ],
   "source": [
    "# short program to help a customer.\n",
    "capacity=20000\n",
    "cost=3400\n",
    "\n",
    "if(capacity >= 10000) and (cost<=3500):\n",
    "    print(\"Yes, this power bank is for you!\")\n",
    "else:\n",
    "    print(\"No, this doesn't suit your needs.\")"
   ]
  },
  {
   "cell_type": "code",
   "execution_count": null,
   "id": "920e0c5b",
   "metadata": {},
   "outputs": [],
   "source": []
  }
 ],
 "metadata": {
  "kernelspec": {
   "display_name": "Python 3 (ipykernel)",
   "language": "python",
   "name": "python3"
  },
  "language_info": {
   "codemirror_mode": {
    "name": "ipython",
    "version": 3
   },
   "file_extension": ".py",
   "mimetype": "text/x-python",
   "name": "python",
   "nbconvert_exporter": "python",
   "pygments_lexer": "ipython3",
   "version": "3.9.7"
  }
 },
 "nbformat": 4,
 "nbformat_minor": 5
}
